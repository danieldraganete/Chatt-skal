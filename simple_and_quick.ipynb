{
  "cells": [
    {
      "cell_type": "markdown",
      "metadata": {
        "id": "view-in-github",
        "colab_type": "text"
      },
      "source": [
        "<a href=\"https://colab.research.google.com/github/danieldraganete/Chatt-skal/blob/main/simple_and_quick.ipynb\" target=\"_parent\"><img src=\"https://colab.research.google.com/assets/colab-badge.svg\" alt=\"Open In Colab\"/></a>"
      ]
    },
    {
      "cell_type": "code",
      "source": [
        "pip install paho-mqtt"
      ],
      "metadata": {
        "id": "6Z_UkaRmzDJQ",
        "outputId": "0060f087-02c4-4741-950a-92f4fa17b351",
        "colab": {
          "base_uri": "https://localhost:8080/"
        }
      },
      "execution_count": null,
      "outputs": [
        {
          "output_type": "stream",
          "name": "stdout",
          "text": [
            "Collecting paho-mqtt\n",
            "  Downloading paho_mqtt-2.1.0-py3-none-any.whl.metadata (23 kB)\n",
            "Downloading paho_mqtt-2.1.0-py3-none-any.whl (67 kB)\n",
            "\u001b[?25l   \u001b[90m━━━━━━━━━━━━━━━━━━━━━━━━━━━━━━━━━━━━━━━━\u001b[0m \u001b[32m0.0/67.2 kB\u001b[0m \u001b[31m?\u001b[0m eta \u001b[36m-:--:--\u001b[0m\r\u001b[2K   \u001b[90m━━━━━━━━━━━━━━━━━━━━━━━━━━━━━━━━━━━━━━━━\u001b[0m \u001b[32m67.2/67.2 kB\u001b[0m \u001b[31m5.2 MB/s\u001b[0m eta \u001b[36m0:00:00\u001b[0m\n",
            "\u001b[?25hInstalling collected packages: paho-mqtt\n",
            "Successfully installed paho-mqtt-2.1.0\n"
          ]
        }
      ]
    },
    {
      "cell_type": "code",
      "source": [
        "pip install cryptography"
      ],
      "metadata": {
        "id": "V-g-n3ERzG4R",
        "outputId": "0feb05b5-e9e2-4fb7-cced-45f86e8ee811",
        "colab": {
          "base_uri": "https://localhost:8080/"
        }
      },
      "execution_count": null,
      "outputs": [
        {
          "output_type": "stream",
          "name": "stdout",
          "text": [
            "Requirement already satisfied: cryptography in /usr/local/lib/python3.10/dist-packages (43.0.3)\n",
            "Requirement already satisfied: cffi>=1.12 in /usr/local/lib/python3.10/dist-packages (from cryptography) (1.17.1)\n",
            "Requirement already satisfied: pycparser in /usr/local/lib/python3.10/dist-packages (from cffi>=1.12->cryptography) (2.22)\n"
          ]
        }
      ]
    },
    {
      "cell_type": "code",
      "source": [
        "import paho.mqtt.client as paho\n",
        "import random\n",
        "import threading\n",
        "import queue\n",
        "import base64\n",
        "from cryptography.fernet import Fernet\n",
        "import sys\n",
        "\n",
        "CLIENT_ID = f'movant-mqtt-{random.randint(0, 1000)}'\n",
        "USERNAME = ''\n",
        "PASSWORD = ''\n",
        "BROKER = 'test.mosquitto.org'\n",
        "PORT = 1883\n",
        "\n",
        "CHAT_ROOMS = {\n",
        "    'python': 'movantchat/python'\n",
        "}\n",
        "\n",
        "class Chat:\n",
        "    def __init__(self, username, room, passphrase):\n",
        "        self.username = username\n",
        "        self.room = room\n",
        "        self.topic = CHAT_ROOMS[room]\n",
        "        self.client = None\n",
        "        self.connect_mqtt()\n",
        "        self.input_queue = queue.Queue()\n",
        "        self.running = True\n",
        "        self.fernet = self._init_encryption(passphrase)\n",
        "\n",
        "    def _init_encryption(self, passphrase):\n",
        "        try:\n",
        "            if len(passphrase) != 32:\n",
        "                raise ValueError(\"Passphrase must be 32 characters long\")\n",
        "            key = base64.urlsafe_b64encode(bytes(passphrase, 'utf-8'))\n",
        "            return Fernet(key)\n",
        "        except Exception as e:\n",
        "            print(f\"Error initializing encryption: {e}\")\n",
        "            sys.exit(1)\n",
        "\n",
        "    @staticmethod\n",
        "    def on_connect(client, userdata, flags, rc):\n",
        "        if rc == 0:\n",
        "            print(\"Connected to MQTT Broker!\")\n",
        "            client.subscribe(userdata['topic'])\n",
        "        else:\n",
        "            print(f\"Failed to connect, return code {rc}\")\n",
        "            sys.exit(1)\n",
        "\n",
        "    def connect_mqtt(self):\n",
        "        try:\n",
        "            self.client = paho.Client(client_id=CLIENT_ID, userdata={'topic': self.topic})\n",
        "            self.client.on_connect = self.on_connect\n",
        "            self.client.on_message = self.on_message\n",
        "            self.client.connect(BROKER, PORT)\n",
        "        except Exception as e:\n",
        "            print(f\"Error connecting to MQTT broker: {e}\")\n",
        "            sys.exit(1)\n",
        "\n",
        "    def on_message(self, client, userdata, msg):\n",
        "        try:\n",
        "            decrypted_message = self.fernet.decrypt(msg.payload).decode()\n",
        "            print(f\"{decrypted_message}\")\n",
        "        except Exception as e:\n",
        "            print(f\"Error decrypting message: {e}\")\n",
        "\n",
        "    def init_client(self):\n",
        "        try:\n",
        "            self.client.loop_start()\n",
        "        except Exception as e:\n",
        "            print(f\"Error starting MQTT loop: {e}\")\n",
        "            sys.exit(1)\n",
        "\n",
        "    def run(self):\n",
        "        self.init_client()\n",
        "\n",
        "        while self.running:\n",
        "            try:\n",
        "                msg_to_send = input()\n",
        "                if msg_to_send.lower() == \"quit\":\n",
        "                    self.client.publish(self.topic, self.fernet.encrypt(bytes(f\"{self.username} has left the chat\", 'utf-8')))\n",
        "                    self.running = False\n",
        "                    break\n",
        "                else:\n",
        "                    encrypted_message = self.fernet.encrypt(bytes(f\"{self.username}: {msg_to_send}\", 'utf-8'))\n",
        "                    self.client.publish(self.topic, encrypted_message)\n",
        "            except Exception as e:\n",
        "                print(f\"Error sending message: {e}\")\n",
        "\n",
        "def main():\n",
        "    try:\n",
        "        username = input(\"Enter your username: \")\n",
        "\n",
        "        print(\"Pick a room:\")\n",
        "        for room in CHAT_ROOMS:\n",
        "            print(f\"\\t{room}\")\n",
        "        room = input(\"> \")\n",
        "\n",
        "        passphrase = input(\"Enter a 32-character passphrase for encryption: \")\n",
        "\n",
        "        if len(passphrase) != 32:\n",
        "            raise ValueError(\"Passphrase must be 32 characters long\")\n",
        "\n",
        "        chat = Chat(username, room, passphrase)\n",
        "        chat.run()\n",
        "    except Exception as e:\n",
        "        print(f\"An error occurred: {e}\")\n",
        "        sys.exit(1)\n",
        "\n",
        "if __name__ == '__main__':\n",
        "    main()\n"
      ],
      "metadata": {
        "id": "e-J12_yTzP9Z",
        "outputId": "0fbff513-de26-4272-8f96-d39664f546a0",
        "colab": {
          "base_uri": "https://localhost:8080/"
        }
      },
      "execution_count": null,
      "outputs": [
        {
          "name": "stdout",
          "output_type": "stream",
          "text": [
            "Enter your username: ddr\n",
            "Pick a room:\n",
            "\tpython\n",
            "> python\n",
            "Enter a 32-character passphrase for encryption: 01234567890123456789012345678912\n"
          ]
        },
        {
          "output_type": "stream",
          "name": "stderr",
          "text": [
            "<ipython-input-3-8f76e4b9b82c>:51: DeprecationWarning: Callback API version 1 is deprecated, update to latest version\n",
            "  self.client = paho.Client(client_id=CLIENT_ID, userdata={'topic': self.topic})\n"
          ]
        },
        {
          "output_type": "stream",
          "name": "stdout",
          "text": [
            "Connected to MQTT Broker!\n",
            "daniel: hello\n",
            "bau\n",
            "ddr: bau\n"
          ]
        }
      ]
    },
    {
      "cell_type": "markdown",
      "source": [
        "Enter your passphrase t'ex : 01234567890123456789012345678912"
      ],
      "metadata": {
        "id": "CA1xBQSazXR8"
      }
    }
  ],
  "metadata": {
    "colab": {
      "toc_visible": true,
      "provenance": [],
      "include_colab_link": true
    },
    "kernelspec": {
      "display_name": "Python 3",
      "name": "python3"
    }
  },
  "nbformat": 4,
  "nbformat_minor": 0
}